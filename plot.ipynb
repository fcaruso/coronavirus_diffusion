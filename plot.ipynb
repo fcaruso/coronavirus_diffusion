{
 "cells": [
  {
   "cell_type": "code",
   "execution_count": 9,
   "metadata": {},
   "outputs": [],
   "source": [
    "import opendata_reader as odr\n",
    "import chart_plotter as cp\n",
    "import matrix_builder as mb\n",
    "import numpy\n",
    "from matplotlib import dates\n",
    "from matplotlib.dates import DayLocator, HourLocator, DateFormatter, drange\n",
    "json_filename = \"../../../COVID-19/dati-json/dpc-covid19-ita-regioni.json\"\n",
    "json_data = odr.read_json_file(json_filename)\n",
    "\n",
    "# get the data in a structured form\n",
    "[indexmap_date, indexmap_region, matrix] = odr.build_matrix(json_data)\n",
    "\n",
    "concentration_matrix = mb.build_concentration_matrix(matrix, 60)\n",
    "daily_matrix = mb.build_daily_matrix(matrix)\n",
    "daily_concentration_matrix = mb.build_concentration_matrix(daily_matrix, 20)\n",
    "\n",
    "list_regions = list(indexmap_region.keys())\n",
    "list_dates = dates.datestr2num([ d for d in indexmap_date.keys()])\n",
    "\n",
    "cp.plot_regional_charts( list_dates, list_regions, matrix, concentration_matrix,\"../img/\",\"regionale\") \n",
    "cp.plot_national_charts( list_dates, list_regions, concentration_matrix, matrix,\"../img/\",\"nazionale\") \n",
    "cp.plot_regional_daily_charts(list_dates, list_regions, daily_matrix, daily_concentration_matrix,\"../img/\", \"daily\")"
   ]
  }
 ],
 "metadata": {
  "kernelspec": {
   "display_name": "Python 3",
   "language": "python",
   "name": "python3"
  },
  "language_info": {
   "codemirror_mode": {
    "name": "ipython",
    "version": 3
   },
   "file_extension": ".py",
   "mimetype": "text/x-python",
   "name": "python",
   "nbconvert_exporter": "python",
   "pygments_lexer": "ipython3",
   "version": "3.8.2"
  }
 },
 "nbformat": 4,
 "nbformat_minor": 4
}
